{
  "nbformat": 4,
  "nbformat_minor": 0,
  "metadata": {
    "colab": {
      "provenance": [],
      "authorship_tag": "ABX9TyOI/v7ruua7e6zR5YYCzkUG",
      "include_colab_link": true
    },
    "kernelspec": {
      "name": "python3",
      "display_name": "Python 3"
    },
    "language_info": {
      "name": "python"
    }
  },
  "cells": [
    {
      "cell_type": "markdown",
      "metadata": {
        "id": "view-in-github",
        "colab_type": "text"
      },
      "source": [
        "<a href=\"https://colab.research.google.com/github/UlisesNuB/Valores-Nulos/blob/main/Valores_Nulos.ipynb\" target=\"_parent\"><img src=\"https://colab.research.google.com/assets/colab-badge.svg\" alt=\"Open In Colab\"/></a>"
      ]
    },
    {
      "cell_type": "code",
      "execution_count": 2,
      "metadata": {
        "id": "6349hrzGrOpz"
      },
      "outputs": [],
      "source": [
        "#Importamos librerias pandas, numpy y matplotlib\n",
        "import pandas as pd\n",
        "import numpy as np\n",
        "import matplotlib.pyplot as plt"
      ]
    },
    {
      "cell_type": "code",
      "source": [
        "#Cargar archivos csv desde equipo\n",
        "from google.colab import files\n",
        "files.upload()"
      ],
      "metadata": {
        "id": "WFROUfv4rl_V"
      },
      "execution_count": null,
      "outputs": []
    },
    {
      "cell_type": "code",
      "source": [
        "#Cargar archivo csv sin indice\n",
        "data = pd.read_csv(\"Ventas_totales.csv\")\n",
        "data.head(5)"
      ],
      "metadata": {
        "id": "3AMAahiRr055"
      },
      "execution_count": null,
      "outputs": []
    },
    {
      "cell_type": "code",
      "source": [
        "#Eliminar columnas innecesarias\n",
        "data2= data.drop([\"canales_on_line\",\"otros\"], axis=1)\n",
        "data2"
      ],
      "metadata": {
        "id": "uxOP0wblsJJ1"
      },
      "execution_count": null,
      "outputs": []
    },
    {
      "cell_type": "code",
      "source": [
        "#Identificar valores nulos por columna\n",
        "valores_nulos=data2.isnull().sum()\n",
        "valores_nulos"
      ],
      "metadata": {
        "id": "Lrtp_8wNtquI"
      },
      "execution_count": null,
      "outputs": []
    },
    {
      "cell_type": "markdown",
      "source": [
        "**Sustitución de valores nulos**"
      ],
      "metadata": {
        "id": "aD-nLYDoD4Na"
      }
    },
    {
      "cell_type": "code",
      "source": [
        "#Realizamos una copia del dataframe\n",
        "data3=data2.copy()"
      ],
      "metadata": {
        "id": "KTPAKX3SD8va"
      },
      "execution_count": 8,
      "outputs": []
    },
    {
      "cell_type": "code",
      "source": [
        "\n",
        "#Sustituir valores nulos por promedio o moda\n",
        "data3[\"subtotal_ventas_alimentos_bebidas\"]=data3[\"subtotal_ventas_alimentos_bebidas\"].fillna(round(data2[\"subtotal_ventas_alimentos_bebidas\"].mean(),1))"
      ],
      "metadata": {
        "id": "-J8_NyF9EDmG"
      },
      "execution_count": 11,
      "outputs": []
    },
    {
      "cell_type": "code",
      "source": [
        "#Corroboramos valores nulos\n",
        "valores_nulos=data3.isnull().sum()\n",
        "valores_nulos"
      ],
      "metadata": {
        "id": "3NO0VwREES8L"
      },
      "execution_count": null,
      "outputs": []
    },
    {
      "cell_type": "code",
      "source": [
        "\n",
        "#Sustituir valores nulos con mediana\n",
        "data3[\"tarjetas_credito\"]=data3[\"tarjetas_credito\"].fillna(round(data2[\"tarjetas_credito\"].median(),1))\n",
        "data3"
      ],
      "metadata": {
        "id": "_33d_pDOEeI9"
      },
      "execution_count": null,
      "outputs": []
    },
    {
      "cell_type": "code",
      "source": [
        "#Corroboramos valores nulos\n",
        "valores_nulos=data3.isnull().sum()\n",
        "valores_nulos"
      ],
      "metadata": {
        "id": "uey3Ya50EvcN"
      },
      "execution_count": null,
      "outputs": []
    },
    {
      "cell_type": "code",
      "source": [
        "\n",
        "#Sustituir valores nulos por un valor numerico concreto\n",
        "data3[\"electronicos_articulos_hogar\"]= data3[\"electronicos_articulos_hogar\"].fillna(5)\n",
        "data3"
      ],
      "metadata": {
        "id": "wkSBxWXCFEEq"
      },
      "execution_count": null,
      "outputs": []
    },
    {
      "cell_type": "code",
      "source": [
        "#Corroboramos valores nulos\n",
        "valores_nulos=data3.isnull().sum()\n",
        "valores_nulos"
      ],
      "metadata": {
        "id": "fjFd3jShFRTJ"
      },
      "execution_count": null,
      "outputs": []
    },
    {
      "cell_type": "code",
      "source": [
        "#Sustituir valores nulos por un valor numerico concreto\n",
        "data3[\"indumentaria_calzado_textiles_hogar\"]= data3[\"indumentaria_calzado_textiles_hogar\"].fillna(3)\n",
        "data3"
      ],
      "metadata": {
        "id": "2SSilW8TFU9U"
      },
      "execution_count": null,
      "outputs": []
    },
    {
      "cell_type": "code",
      "source": [
        "#Corroboramos valores nulos\n",
        "valores_nulos=data3.isnull().sum()\n",
        "valores_nulos"
      ],
      "metadata": {
        "id": "jMICYGx2FeT7"
      },
      "execution_count": null,
      "outputs": []
    },
    {
      "cell_type": "code",
      "source": [
        "#Sustituir valores nulos por valores no nulos hacia delante \"Forward fill\" (\"ffill\")\n",
        "#Filtro por columnas\n",
        "data3[\"salon_ventas\"] =data3[\"salon_ventas\"].fillna(method=\"ffill\")"
      ],
      "metadata": {
        "id": "pPQg9oExF1_s"
      },
      "execution_count": 22,
      "outputs": []
    },
    {
      "cell_type": "code",
      "source": [
        "#Corroboramos valores nulos\n",
        "valores_nulos=data3.isnull().sum()\n",
        "valores_nulos"
      ],
      "metadata": {
        "id": "dAPr56sMGC0c"
      },
      "execution_count": null,
      "outputs": []
    },
    {
      "cell_type": "code",
      "source": [
        "#Sustituir valore nulos por los valores no nulos hacia atras backward fill\" (\"bfill\")\n",
        "data3[\"almacen\"] =data3[\"almacen\"].fillna(method=\"bfill\")"
      ],
      "metadata": {
        "id": "Kvsdp8jXGKj_"
      },
      "execution_count": 24,
      "outputs": []
    },
    {
      "cell_type": "code",
      "source": [
        "#Corroboramos valores nulos\n",
        "valores_nulos=data3.isnull().sum()\n",
        "valores_nulos"
      ],
      "metadata": {
        "id": "-pBKDemKGQbh"
      },
      "execution_count": null,
      "outputs": []
    },
    {
      "cell_type": "code",
      "source": [
        "#Sustituir valore nulos por los valores no nulos hacia atras backward fill\" (\"bfill\")\n",
        "data3[\"tarjetas_debito\"] =data3[\"tarjetas_debito\"].fillna(method=\"bfill\")"
      ],
      "metadata": {
        "id": "kSBmm6pmG6lN"
      },
      "execution_count": 26,
      "outputs": []
    },
    {
      "cell_type": "code",
      "source": [
        "#Corroboramos valores nulos\n",
        "valores_nulos=data3.isnull().sum()\n",
        "valores_nulos"
      ],
      "metadata": {
        "id": "MdTq48QtHD_w"
      },
      "execution_count": null,
      "outputs": []
    },
    {
      "cell_type": "code",
      "source": [
        "#Sustituir valores nulos por valores no nulos hacia delante \"Forward fill\" (\"ffill\")\n",
        "#Filtro por columnas\n",
        "data3[\"otros_medios\"] =data3[\"otros_medios\"].fillna(method=\"ffill\")"
      ],
      "metadata": {
        "id": "E2WdGZLEHHBf"
      },
      "execution_count": 29,
      "outputs": []
    },
    {
      "cell_type": "code",
      "source": [
        "#Corroboramos valores nulos\n",
        "valores_nulos=data3.isnull().sum()\n",
        "valores_nulos"
      ],
      "metadata": {
        "id": "EU6t_GClHPvR"
      },
      "execution_count": null,
      "outputs": []
    },
    {
      "cell_type": "code",
      "source": [
        "#Sustituir valore nulos por los valores no nulos hacia atras backward fill\" (\"bfill\")\n",
        "data3[\"bebidas\"] =data3[\"bebidas\"].fillna(method=\"bfill\")"
      ],
      "metadata": {
        "id": "9gR5qTC4HWcv"
      },
      "execution_count": 31,
      "outputs": []
    },
    {
      "cell_type": "code",
      "source": [
        "#Corroboramos valores nulos\n",
        "valores_nulos=data3.isnull().sum()\n",
        "valores_nulos"
      ],
      "metadata": {
        "id": "mGSy8lxpHcLt"
      },
      "execution_count": null,
      "outputs": []
    },
    {
      "cell_type": "code",
      "source": [
        "#Sustituir valores nulos por valores no nulos hacia delante \"Forward fill\" (\"ffill\")\n",
        "#Filtro por columnas\n",
        "data3[\"panaderia\"] =data3[\"panaderia\"].fillna(method=\"ffill\")\n",
        "data3[\"lacteos\"] =data3[\"lacteos\"].fillna(method=\"ffill\")\n",
        "data3[\"carnes\"] =data3[\"carnes\"].fillna(method=\"ffill\")\n",
        "data3[\"verduleria_fruteria\"] =data3[\"verduleria_fruteria\"].fillna(method=\"ffill\")\n",
        "data3[\"alimentos_preparados_rotiseria\"] =data3[\"alimentos_preparados_rotiseria\"].fillna(method=\"ffill\")\n"
      ],
      "metadata": {
        "id": "3Pr44c1_HmaW"
      },
      "execution_count": 36,
      "outputs": []
    },
    {
      "cell_type": "code",
      "source": [
        "#Corroboramos valores nulos\n",
        "valores_nulos=data3.isnull().sum()\n",
        "valores_nulos"
      ],
      "metadata": {
        "id": "gH-AYxSWH2bN"
      },
      "execution_count": null,
      "outputs": []
    },
    {
      "cell_type": "code",
      "source": [
        "#Corroboramos valores nulos de todo el dataframe\n",
        "valores_nulos=data3.isnull().sum().sum()\n",
        "valores_nulos"
      ],
      "metadata": {
        "colab": {
          "base_uri": "https://localhost:8080/"
        },
        "id": "hYnbxo05IOur",
        "outputId": "07405895-4986-4103-e97d-7a61028d9262"
      },
      "execution_count": 38,
      "outputs": [
        {
          "output_type": "execute_result",
          "data": {
            "text/plain": [
              "0"
            ]
          },
          "metadata": {},
          "execution_count": 38
        }
      ]
    }
  ]
}